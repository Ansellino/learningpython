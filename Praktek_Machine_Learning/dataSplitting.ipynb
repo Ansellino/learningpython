{
 "cells": [
  {
   "cell_type": "markdown",
   "id": "d6085308",
   "metadata": {},
   "source": [
    "# Latihan: Data Splitting\n"
   ]
  },
  {
   "cell_type": "markdown",
   "id": "69e2c408",
   "metadata": {},
   "source": [
    "Untuk latihan membagi dataset ini terbilang sangat mudah. Tahapannya terdiri dari langkah-langkah sebagai berikut.\n",
    "\n",
    "1. Persiapkan dataset ke dalam Notebook.\n",
    "2. Impor library SKLearn.\n",
    "3. Buat variabel untuk menampung data training dan data testing.\n",
    "4. Panggil fungsi train_test_split()."
   ]
  }
 ],
 "metadata": {
  "language_info": {
   "name": "python"
  }
 },
 "nbformat": 4,
 "nbformat_minor": 5
}
